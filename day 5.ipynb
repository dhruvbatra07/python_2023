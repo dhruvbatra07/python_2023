{
 "cells": [
  {
   "cell_type": "code",
   "execution_count": 2,
   "id": "1bbd9c78",
   "metadata": {},
   "outputs": [
    {
     "name": "stdout",
     "output_type": "stream",
     "text": [
      "()\n",
      "(1, 2, 3, 4, 5, 6, 7)\n",
      "(8, 'Hello', 3.3, True, 'Bye')\n",
      "('H', 'e', 'l', 'l', 'o', '-', 'f', 'r', 'o', 'm', '-', 'p', 'y', 't', 'h', 'o', 'n')\n",
      "('Hello', (3, 1), 'HI')\n"
     ]
    }
   ],
   "source": [
    "\n",
    "empty_tuple = ()\n",
    "\n",
    "empty_tuple = tuple()\n",
    "\n",
    "integer_tuple = (1, 2, 3, 4, 5, 6, 7)\n",
    "\n",
    "mixed_tuple = (8, \"Hello\", 3.3, True, \"Bye\")\n",
    "\n",
    "iterable_tuple = tuple(\"Hello-from-python\")\n",
    "\n",
    "nested_tuple = (\"Hello\", (3, 1), 'HI')\n",
    "\n",
    "print(empty_tuple)\n",
    "print(integer_tuple)\n",
    "print(mixed_tuple)\n",
    "print(iterable_tuple)\n",
    "print(nested_tuple)"
   ]
  },
  {
   "cell_type": "code",
   "execution_count": 5,
   "id": "70cc2560",
   "metadata": {},
   "outputs": [
    {
     "name": "stdout",
     "output_type": "stream",
     "text": [
      "5\n",
      "4\n",
      "(2, 3)\n",
      "(3, 4, 5, 6, 7)\n",
      "(1, 2, 3, 4, 5)\n",
      "(6, 7)\n",
      "(1, 2)\n",
      "True\n",
      "True\n",
      "(1, 2, 3, 4, 5, 6, 7, 1, 2, 3, 4, 5, 6, 7)\n",
      "7\n",
      "1 2 3 4 5 6 7 7  -  1\n",
      "2\n",
      "1\n"
     ]
    }
   ],
   "source": [
    "integer_tuple = (1, 2, 3, 4, 5, 6, 7)\n",
    "\n",
    "#indexing\n",
    "print(integer_tuple[4])\n",
    "print(integer_tuple[-4])\n",
    "\n",
    "#slicing\n",
    "print(integer_tuple[1:3])\n",
    "print(integer_tuple[2:])\n",
    "print(integer_tuple[:5])\n",
    "print(integer_tuple[-2:])\n",
    "print(integer_tuple[:-5])\n",
    "\n",
    "#membership\n",
    "print(4 in integer_tuple)\n",
    "print(10 not in integer_tuple)\n",
    "\n",
    "#concatenation\n",
    "print(integer_tuple+integer_tuple)\n",
    "\n",
    "#length of tuples\n",
    "print(len(integer_tuple))\n",
    "\n",
    "#iterate over tuple\n",
    "for element in integer_tuple:\n",
    "    print(element, end=\" \")\n",
    "    \n",
    "#max and min\n",
    "print(max(integer_tuple), \" - \", min(integer_tuple))\n",
    "\n",
    "#index()\n",
    "print(integer_tuple.index(3))\n",
    "\n",
    "#count()\n",
    "print(integer_tuple.count(6))\n"
   ]
  },
  {
   "cell_type": "code",
   "execution_count": null,
   "id": "9d61eee7",
   "metadata": {},
   "outputs": [],
   "source": []
  }
 ],
 "metadata": {
  "kernelspec": {
   "display_name": "Python 3 (ipykernel)",
   "language": "python",
   "name": "python3"
  },
  "language_info": {
   "codemirror_mode": {
    "name": "ipython",
    "version": 3
   },
   "file_extension": ".py",
   "mimetype": "text/x-python",
   "name": "python",
   "nbconvert_exporter": "python",
   "pygments_lexer": "ipython3",
   "version": "3.10.9"
  }
 },
 "nbformat": 4,
 "nbformat_minor": 5
}
