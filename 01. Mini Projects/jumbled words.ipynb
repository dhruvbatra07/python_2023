{
 "cells": [
  {
   "cell_type": "code",
   "execution_count": null,
   "id": "d8d3e628",
   "metadata": {},
   "outputs": [],
   "source": [
    "import random,time\n",
    "choices = [\"hello\" , \"when\" , \"game\" , \"laptop\" , \"notebook\" , \"glass\", \"remote\" , \"watch\" , \"dog\" , \"tshirt\"]\n",
    "name = input(\"please enter your name: \")\n",
    "print(\"WELCOME TO THE JUMBLE SOLVER!\")\n",
    "time.sleep(1)\n",
    "print(f\"Hello {name} it is so nice to meet you, hope are you having an amazing day.\")\n",
    "time.sleep(3)\n",
    "print(\"The rules of the game are as following:\")\n",
    "time.sleep(1)\n",
    "print(\"~ you will be given a jumbled word, and five chances to guess the word\")\n",
    "time.sleep(2)\n",
    "print(\"~ if you guess the word correctly you will win the game\")\n",
    "time.sleep(2)\n",
    "print(\"~ if you cannot guess the word in 5 chances, you will loose the game\")\n",
    "time.sleep(2) \n",
    "print(f\"I hope you are ready for the game {name}, we wish you all the best!\")\n",
    "time.sleep(1)\n",
    "compchoice = random.choice(choices)\n",
    "l = list(compchoice)\n",
    "random.shuffle(l)\n",
    "jumble = ''.join(l)\n",
    "print(f\"unjumble the following word: {jumble}\")\n",
    "for i in range(5):\n",
    "    userchoice = input(\"> \")\n",
    "    if (compchoice == userchoice):\n",
    "        print(f\"you win, congratulations {name}.\")\n",
    "        break\n",
    "    elif (i == 4):\n",
    "        print(\"you lost, better luck next time :)\")\n",
    "    else:\n",
    "        print(\"try again...\")"
   ]
  }
 ],
 "metadata": {
  "kernelspec": {
   "display_name": "Python 3 (ipykernel)",
   "language": "python",
   "name": "python3"
  },
  "language_info": {
   "codemirror_mode": {
    "name": "ipython",
    "version": 3
   },
   "file_extension": ".py",
   "mimetype": "text/x-python",
   "name": "python",
   "nbconvert_exporter": "python",
   "pygments_lexer": "ipython3",
   "version": "3.10.9"
  }
 },
 "nbformat": 4,
 "nbformat_minor": 5
}
