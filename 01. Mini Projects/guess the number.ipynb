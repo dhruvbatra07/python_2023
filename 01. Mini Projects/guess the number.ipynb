{
 "cells": [
  {
   "cell_type": "code",
   "execution_count": null,
   "id": "b357abd7",
   "metadata": {},
   "outputs": [],
   "source": [
    "import random,time\n",
    "name = (input(\"please enter your name: \"))\n",
    "print(\"WELCOME TO THE NUMBER GUESSING GAME !\")\n",
    "time.sleep(1)\n",
    "print(f\"Hello {name} it is so nice to meet you, hope are you having an amazing day.\")\n",
    "time.sleep(3)\n",
    "print(\"The rules of the game are as folloing:\")\n",
    "time.sleep(1)\n",
    "print(\"~ you will be given 5 chances to guess the number between 0 - 10\")\n",
    "time.sleep(2)\n",
    "print(\"~ the game will stop when guess the right number\")\n",
    "time.sleep(2) \n",
    "print(f\"I hope you are ready for the game {name}, we wish you all the best!\")\n",
    "time.sleep(2)\n",
    "x = random.randint(0, 10)\n",
    "for i in range(5):\n",
    "    n = int(input(\"please enter the guessed number: \"))\n",
    "    if (x == n):\n",
    "        print(f\"you win, congratulations {name}.\")\n",
    "        break\n",
    "    elif (i == 4):\n",
    "        print(\"you lost, better luck next time :)\")\n",
    "    else:\n",
    "        print(\"try again...\")"
   ]
  }
 ],
 "metadata": {
  "kernelspec": {
   "display_name": "Python 3 (ipykernel)",
   "language": "python",
   "name": "python3"
  },
  "language_info": {
   "codemirror_mode": {
    "name": "ipython",
    "version": 3
   },
   "file_extension": ".py",
   "mimetype": "text/x-python",
   "name": "python",
   "nbconvert_exporter": "python",
   "pygments_lexer": "ipython3",
   "version": "3.10.9"
  }
 },
 "nbformat": 4,
 "nbformat_minor": 5
}
