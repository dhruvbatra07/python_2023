{
 "cells": [
  {
   "cell_type": "code",
   "execution_count": 3,
   "id": "6d465b93",
   "metadata": {},
   "outputs": [
    {
     "name": "stdout",
     "output_type": "stream",
     "text": [
      "* \n",
      "* * \n",
      "* * * \n",
      "* * * * \n",
      "* * * * * \n"
     ]
    }
   ],
   "source": [
    "#0\n",
    "rows = int(input(\"enter the number of rows \"))\n",
    "for i in range (0,rows):\n",
    "    for g in range (0,i+1):\n",
    "        print (\"*\",end=\" \")\n",
    "    print ()"
   ]
  },
  {
   "cell_type": "code",
   "execution_count": 9,
   "id": "e46f172f",
   "metadata": {},
   "outputs": [
    {
     "name": "stdout",
     "output_type": "stream",
     "text": [
      "* * * * * \n",
      "* * * * \n",
      "* * * \n",
      "* * \n",
      "* \n"
     ]
    }
   ],
   "source": [
    "#2\n",
    "for i in range (4,-1,-1):\n",
    "    for g in range (0,i+1):\n",
    "        print (\"*\",end=\" \")\n",
    "    print ()"
   ]
  },
  {
   "cell_type": "code",
   "execution_count": 19,
   "id": "e5b939b2",
   "metadata": {},
   "outputs": [
    {
     "name": "stdout",
     "output_type": "stream",
     "text": [
      "enter the number of rows 4\n",
      "* \n",
      "* * \n",
      "* * * \n",
      "* * * * \n",
      "* * * \n",
      "* * \n",
      "* \n"
     ]
    }
   ],
   "source": [
    "#3\n",
    "n = int(input(\"enter the number of rows \"))\n",
    "for row in range(2*n-1):\n",
    "    #part 1\n",
    "    if(row<n):\n",
    "        for star in range(row + 1):\n",
    "            print('*',end=\" \")\n",
    "        print()\n",
    "    #part 2\n",
    "    else:\n",
    "        for star in range((2*n-1)-row):\n",
    "            print('*',end=\" \")\n",
    "        print()"
   ]
  },
  {
   "cell_type": "code",
   "execution_count": 25,
   "id": "cf8f9aa1",
   "metadata": {},
   "outputs": [
    {
     "name": "stdout",
     "output_type": "stream",
     "text": [
      "10\n",
      "         *         \n",
      "        ***        \n",
      "       *****       \n",
      "      *******      \n",
      "     *********     \n",
      "    ***********    \n",
      "   *************   \n",
      "  ***************  \n",
      " ***************** \n",
      "*******************\n"
     ]
    }
   ],
   "source": [
    "n = int(input())\n",
    "space_start=2*n-2\n",
    "\n",
    "for row in range (n):\n",
    "    half_space = int(space_start/2)\n",
    "    #print space\n",
    "    for space in range(half_space):\n",
    "        print(\" \",end=\"\")\n",
    "    \n",
    "    #print stars\n",
    "    for star in range(2*row+1):\n",
    "        print(\"*\",end=\"\")\n",
    "        \n",
    "    #print space\n",
    "    for space in range(half_space):\n",
    "        print(\" \",end=\"\")\n",
    "    space_start -= 2\n",
    "    print()"
   ]
  },
  {
   "cell_type": "code",
   "execution_count": null,
   "id": "52b91896",
   "metadata": {},
   "outputs": [],
   "source": []
  }
 ],
 "metadata": {
  "kernelspec": {
   "display_name": "Python 3 (ipykernel)",
   "language": "python",
   "name": "python3"
  },
  "language_info": {
   "codemirror_mode": {
    "name": "ipython",
    "version": 3
   },
   "file_extension": ".py",
   "mimetype": "text/x-python",
   "name": "python",
   "nbconvert_exporter": "python",
   "pygments_lexer": "ipython3",
   "version": "3.10.9"
  }
 },
 "nbformat": 4,
 "nbformat_minor": 5
}
