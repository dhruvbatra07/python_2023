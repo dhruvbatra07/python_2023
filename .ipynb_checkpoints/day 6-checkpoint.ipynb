{
 "cells": [
  {
   "cell_type": "code",
   "execution_count": 1,
   "id": "5b2133e9",
   "metadata": {},
   "outputs": [
    {
     "name": "stdout",
     "output_type": "stream",
     "text": [
      "hello, world!\n"
     ]
    }
   ],
   "source": [
    "class myclass:\n",
    "    def print_message(self):\n",
    "        print(\"hello, world!\")\n",
    "        \n",
    "my_object = myclass()\n",
    "my_object.print_message()"
   ]
  },
  {
   "cell_type": "code",
   "execution_count": 2,
   "id": "e817639f",
   "metadata": {},
   "outputs": [],
   "source": [
    "class remote:\n",
    "    def playtv(self):\n",
    "        print(\"play tv.\")\n",
    "    def changechannel(self,channelnum):\n",
    "        print(f\"channel changed to: {channelnum}\")"
   ]
  },
  {
   "cell_type": "code",
   "execution_count": 4,
   "id": "f7f8777f",
   "metadata": {},
   "outputs": [
    {
     "name": "stdout",
     "output_type": "stream",
     "text": [
      "play tv.\n",
      "channel changed to: 86\n"
     ]
    }
   ],
   "source": [
    "r = remote()\n",
    "r.playtv()\n",
    "r.changechannel(86)"
   ]
  },
  {
   "cell_type": "code",
   "execution_count": 6,
   "id": "51a299cc",
   "metadata": {},
   "outputs": [
    {
     "name": "stdout",
     "output_type": "stream",
     "text": [
      "Isha\n",
      "23\n"
     ]
    }
   ],
   "source": [
    "class person:\n",
    "    def __init__(self,name,age):\n",
    "        self.name = name\n",
    "        self.age = age\n",
    "person = person(\"Isha\",23)\n",
    "print(person.name)\n",
    "print(person.age)"
   ]
  },
  {
   "cell_type": "code",
   "execution_count": 12,
   "id": "49c278a8",
   "metadata": {},
   "outputs": [],
   "source": [
    "class vehicle:\n",
    "    def __init__(self,brand,color):\n",
    "        self.brand = brand\n",
    "        self.color = color\n",
    "    def start(self):\n",
    "        print(f\"the {self.color} {self.brand} starts\")\n",
    "    def stop(self):\n",
    "        print(f\"the {self.color} {self.brand} stops\")"
   ]
  },
  {
   "cell_type": "code",
   "execution_count": 15,
   "id": "142b2201",
   "metadata": {},
   "outputs": [],
   "source": [
    "class car(vehicle):\n",
    "    def drive(self):\n",
    "        print(f\"the {self.color} {self.brand} ison the road\")"
   ]
  },
  {
   "cell_type": "code",
   "execution_count": 16,
   "id": "bc398736",
   "metadata": {},
   "outputs": [],
   "source": [
    "c = car(\"toyota\",\"red\")"
   ]
  },
  {
   "cell_type": "code",
   "execution_count": 17,
   "id": "e68fae99",
   "metadata": {},
   "outputs": [
    {
     "data": {
      "text/plain": [
       "'toyota'"
      ]
     },
     "execution_count": 17,
     "metadata": {},
     "output_type": "execute_result"
    }
   ],
   "source": [
    "c.brand"
   ]
  },
  {
   "cell_type": "code",
   "execution_count": 19,
   "id": "4c8088d6",
   "metadata": {},
   "outputs": [
    {
     "name": "stdout",
     "output_type": "stream",
     "text": [
      "the red toyota starts\n"
     ]
    }
   ],
   "source": [
    "c.start()"
   ]
  },
  {
   "cell_type": "code",
   "execution_count": 21,
   "id": "eadad126",
   "metadata": {},
   "outputs": [],
   "source": [
    "class engine(car):\n",
    "    def run(self):\n",
    "        print(f\"engine of {self.color} {self.brand} is running.\")\n",
    "\n",
    "e = Engine(\"toyota\", \"red\")"
   ]
  },
  {
   "cell_type": "code",
   "execution_count": 22,
   "id": "f49732d3",
   "metadata": {},
   "outputs": [
    {
     "name": "stdout",
     "output_type": "stream",
     "text": [
      "the Red Toyota starts\n"
     ]
    }
   ],
   "source": [
    "e.start()"
   ]
  },
  {
   "cell_type": "code",
   "execution_count": 24,
   "id": "4439d016",
   "metadata": {},
   "outputs": [],
   "source": [
    "class motorcycle(vehicle):\n",
    "    def ride(self):\n",
    "        print(f\"the {self.color} {self.brand} is being ridden.\")\n",
    "\n",
    "m = Motorcycle(\"harley-davidson\", \"black\")"
   ]
  },
  {
   "cell_type": "code",
   "execution_count": 25,
   "id": "e18099c2",
   "metadata": {},
   "outputs": [
    {
     "name": "stdout",
     "output_type": "stream",
     "text": [
      "the Black Harley-Davidson starts\n"
     ]
    }
   ],
   "source": [
    "m.start()"
   ]
  },
  {
   "cell_type": "code",
   "execution_count": 26,
   "id": "6c25d78b",
   "metadata": {},
   "outputs": [],
   "source": [
    "class flyable:\n",
    "    def fly(self):\n",
    "        print(\"the object is flying\")\n",
    "class airplane(vehicle,flyable):\n",
    "    def takeoff(self):\n",
    "        print(\"the airplane takes off.\")\n",
    "        \n",
    "a = airplane (\"boeing\",\"white\")"
   ]
  },
  {
   "cell_type": "code",
   "execution_count": 27,
   "id": "3994fef7",
   "metadata": {},
   "outputs": [
    {
     "name": "stdout",
     "output_type": "stream",
     "text": [
      "the white boeing starts\n"
     ]
    }
   ],
   "source": [
    "a.start()\n"
   ]
  },
  {
   "cell_type": "code",
   "execution_count": 28,
   "id": "ddfbb3dc",
   "metadata": {},
   "outputs": [
    {
     "name": "stdout",
     "output_type": "stream",
     "text": [
      "the object is flying\n"
     ]
    }
   ],
   "source": [
    "a.fly()"
   ]
  },
  {
   "cell_type": "code",
   "execution_count": 1,
   "id": "c27ebfba",
   "metadata": {},
   "outputs": [],
   "source": [
    "class person:\n",
    "    def __init__(self, rollno, name, age):\n",
    "        self.rollno = rollno \n",
    "        self.__name = name\n",
    "        self._age = age\n",
    "        \n",
    "    def display_info(self):\n",
    "        print(f\"roll no: {self.rollno}, name: {self.__name}, age: {self._age}\")"
   ]
  },
  {
   "cell_type": "code",
   "execution_count": 2,
   "id": "0e63d92d",
   "metadata": {},
   "outputs": [
    {
     "name": "stdout",
     "output_type": "stream",
     "text": [
      "roll no: 1, name: Dhruv, age: 18\n",
      "1\n",
      "18\n"
     ]
    },
    {
     "ename": "AttributeError",
     "evalue": "'person' object has no attribute '__name'",
     "output_type": "error",
     "traceback": [
      "\u001b[1;31m---------------------------------------------------------------------------\u001b[0m",
      "\u001b[1;31mAttributeError\u001b[0m                            Traceback (most recent call last)",
      "Cell \u001b[1;32mIn[2], line 7\u001b[0m\n\u001b[0;32m      5\u001b[0m \u001b[38;5;28mprint\u001b[39m(p\u001b[38;5;241m.\u001b[39mrollno)  \n\u001b[0;32m      6\u001b[0m \u001b[38;5;28mprint\u001b[39m(p\u001b[38;5;241m.\u001b[39m_age)    \n\u001b[1;32m----> 7\u001b[0m \u001b[38;5;28mprint\u001b[39m(\u001b[43mp\u001b[49m\u001b[38;5;241;43m.\u001b[39;49m\u001b[43m__name\u001b[49m)\n",
      "\u001b[1;31mAttributeError\u001b[0m: 'person' object has no attribute '__name'"
     ]
    }
   ],
   "source": [
    "p = person(1,\"Dhruv\",18)\n",
    "\n",
    "p.display_info()\n",
    "\n",
    "print(p.rollno)  \n",
    "print(p._age)    \n",
    "print(p.__name)  "
   ]
  },
  {
   "cell_type": "code",
   "execution_count": 3,
   "id": "e88bdeb8",
   "metadata": {},
   "outputs": [
    {
     "name": "stdout",
     "output_type": "stream",
     "text": [
      "roll no: 2, name: Dhruv, age: 18\n"
     ]
    }
   ],
   "source": [
    "p.rollno = 2\n",
    "p.display_info()"
   ]
  },
  {
   "cell_type": "code",
   "execution_count": 4,
   "id": "acbaf365",
   "metadata": {},
   "outputs": [
    {
     "name": "stdout",
     "output_type": "stream",
     "text": [
      "roll no: 2, name: Dhruv, age: 19\n"
     ]
    }
   ],
   "source": [
    "p._age = 19\n",
    "p.display_info()"
   ]
  },
  {
   "cell_type": "code",
   "execution_count": 5,
   "id": "21e72b75",
   "metadata": {},
   "outputs": [
    {
     "name": "stdout",
     "output_type": "stream",
     "text": [
      "roll no: 2, name: Dhruv, age: 19\n"
     ]
    }
   ],
   "source": [
    "p.name = \"isha\"\n",
    "p.display_info()"
   ]
  },
  {
   "cell_type": "code",
   "execution_count": 7,
   "id": "e000f2ef",
   "metadata": {},
   "outputs": [],
   "source": [
    "#how to change the private attributes\n",
    "class person:\n",
    "    def __init__(self, rollno, name, age):\n",
    "        self.rollno = rollno\n",
    "        self.__name = name\n",
    "        self._age = age\n",
    "        \n",
    "    def get_name(self):\n",
    "        return self.__name\n",
    "    \n",
    "    def set_name(self,name):\n",
    "        self.__name = name\n",
    "        \n",
    "    def display_info(self):\n",
    "        print(f\"roll no: {self.rollno}, name: {self.__name}, age: {self._age}\")"
   ]
  },
  {
   "cell_type": "code",
   "execution_count": 8,
   "id": "3b1e3cef",
   "metadata": {},
   "outputs": [
    {
     "name": "stdout",
     "output_type": "stream",
     "text": [
      "roll no: 1, name: Dhruv, age: 18\n",
      "roll no: 2, name: Dhruv, age: 18\n",
      "roll no: 2, name: Dhruv, age: 19\n",
      "roll no: 2, name: Geeta, age: 19\n"
     ]
    }
   ],
   "source": [
    "p = person(1,\"Dhruv\",18)\n",
    "p.display_info()\n",
    "\n",
    "p.rollno = 2\n",
    "p.display_info()\n",
    "\n",
    "p._age = 19\n",
    "p.display_info()\n",
    "\n",
    "p.set_name(\"Geeta\")\n",
    "p.display_info()"
   ]
  },
  {
   "cell_type": "code",
   "execution_count": null,
   "id": "e5d95e3d",
   "metadata": {},
   "outputs": [],
   "source": []
  }
 ],
 "metadata": {
  "kernelspec": {
   "display_name": "Python 3 (ipykernel)",
   "language": "python",
   "name": "python3"
  },
  "language_info": {
   "codemirror_mode": {
    "name": "ipython",
    "version": 3
   },
   "file_extension": ".py",
   "mimetype": "text/x-python",
   "name": "python",
   "nbconvert_exporter": "python",
   "pygments_lexer": "ipython3",
   "version": "3.10.9"
  }
 },
 "nbformat": 4,
 "nbformat_minor": 5
}
