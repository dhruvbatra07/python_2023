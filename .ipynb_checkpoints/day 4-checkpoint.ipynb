{
 "cells": [
  {
   "cell_type": "code",
   "execution_count": 3,
   "id": "47a259f7",
   "metadata": {},
   "outputs": [
    {
     "name": "stdout",
     "output_type": "stream",
     "text": [
      "[] [] [1, 2, 3, 4, 5] [9, 'hello', False, 'hi']\n"
     ]
    }
   ],
   "source": [
    "l1 = []\n",
    "l2 = list ()\n",
    "l3 = [1,2,3,4,5]\n",
    "l4 = [9, \"hello\" , False , \"hi\"]\n",
    "print (f\"{l1} {l2} {l3} {l4}\")"
   ]
  },
  {
   "cell_type": "code",
   "execution_count": 4,
   "id": "d66de943",
   "metadata": {},
   "outputs": [
    {
     "name": "stdout",
     "output_type": "stream",
     "text": [
      "['h', 'e', 'l', 'l', 'o', ' ', 'i', 's', 'h', 'a']\n"
     ]
    }
   ],
   "source": [
    "l5 = list(\"hello isha\")\n",
    "print (l5)"
   ]
  },
  {
   "cell_type": "code",
   "execution_count": 6,
   "id": "50f75f97",
   "metadata": {},
   "outputs": [
    {
     "name": "stdout",
     "output_type": "stream",
     "text": [
      "['hello', [3, 2], 'bye']\n"
     ]
    }
   ],
   "source": [
    "l6 = [\"hello\", [3,2] , \"bye\"]\n",
    "print (l6)"
   ]
  },
  {
   "cell_type": "code",
   "execution_count": 10,
   "id": "36743fa5",
   "metadata": {},
   "outputs": [
    {
     "name": "stdout",
     "output_type": "stream",
     "text": [
      "3\n",
      "7\n"
     ]
    }
   ],
   "source": [
    "l7 = [4,7,5,6,8,3,9]\n",
    "print (l7[5])\n",
    "print (l7[-6])"
   ]
  },
  {
   "cell_type": "code",
   "execution_count": 11,
   "id": "1ab62e87",
   "metadata": {},
   "outputs": [
    {
     "ename": "TypeError",
     "evalue": "list indices must be integers or slices, not str",
     "output_type": "error",
     "traceback": [
      "\u001b[1;31m---------------------------------------------------------------------------\u001b[0m",
      "\u001b[1;31mTypeError\u001b[0m                                 Traceback (most recent call last)",
      "Cell \u001b[1;32mIn[11], line 1\u001b[0m\n\u001b[1;32m----> 1\u001b[0m \u001b[38;5;28mprint\u001b[39m (\u001b[43ml7\u001b[49m\u001b[43m[\u001b[49m\u001b[38;5;124;43m\"\u001b[39;49m\u001b[38;5;124;43mb\u001b[39;49m\u001b[38;5;124;43m\"\u001b[39;49m\u001b[43m]\u001b[49m)\n",
      "\u001b[1;31mTypeError\u001b[0m: list indices must be integers or slices, not str"
     ]
    }
   ],
   "source": [
    "print (l7[\"b\"])"
   ]
  },
  {
   "cell_type": "code",
   "execution_count": 12,
   "id": "58dfb6d7",
   "metadata": {},
   "outputs": [
    {
     "ename": "IndexError",
     "evalue": "list index out of range",
     "output_type": "error",
     "traceback": [
      "\u001b[1;31m---------------------------------------------------------------------------\u001b[0m",
      "\u001b[1;31mIndexError\u001b[0m                                Traceback (most recent call last)",
      "Cell \u001b[1;32mIn[12], line 1\u001b[0m\n\u001b[1;32m----> 1\u001b[0m \u001b[38;5;28mprint\u001b[39m (\u001b[43ml7\u001b[49m\u001b[43m[\u001b[49m\u001b[38;5;241;43m9\u001b[39;49m\u001b[43m]\u001b[49m)\n",
      "\u001b[1;31mIndexError\u001b[0m: list index out of range"
     ]
    }
   ],
   "source": [
    "print (l7[9])"
   ]
  },
  {
   "cell_type": "code",
   "execution_count": 13,
   "id": "8f205068",
   "metadata": {},
   "outputs": [
    {
     "name": "stdout",
     "output_type": "stream",
     "text": [
      "[7, 5, 6, 8]\n"
     ]
    }
   ],
   "source": [
    "print (l7[1:5])"
   ]
  },
  {
   "cell_type": "code",
   "execution_count": 14,
   "id": "92c6a6b2",
   "metadata": {},
   "outputs": [
    {
     "name": "stdout",
     "output_type": "stream",
     "text": [
      "[4, 7, 5, 6, 8, 3]\n"
     ]
    }
   ],
   "source": [
    "print (l7[:6])"
   ]
  },
  {
   "cell_type": "code",
   "execution_count": 15,
   "id": "d6b9db2a",
   "metadata": {},
   "outputs": [
    {
     "name": "stdout",
     "output_type": "stream",
     "text": [
      "[3, 9]\n"
     ]
    }
   ],
   "source": [
    "print (l7[5:])"
   ]
  },
  {
   "cell_type": "code",
   "execution_count": 16,
   "id": "d73005ac",
   "metadata": {},
   "outputs": [
    {
     "name": "stdout",
     "output_type": "stream",
     "text": [
      "[4, 7, 5, 6, 8]\n"
     ]
    }
   ],
   "source": [
    "print (l7[:-2])"
   ]
  },
  {
   "cell_type": "code",
   "execution_count": 17,
   "id": "51cb39aa",
   "metadata": {},
   "outputs": [
    {
     "name": "stdout",
     "output_type": "stream",
     "text": [
      "[8, 3, 9]\n"
     ]
    }
   ],
   "source": [
    "print (l7[-3:])"
   ]
  },
  {
   "cell_type": "code",
   "execution_count": 18,
   "id": "69ecbb88",
   "metadata": {},
   "outputs": [
    {
     "name": "stdout",
     "output_type": "stream",
     "text": [
      "True\n"
     ]
    }
   ],
   "source": [
    "print (9 in l7)"
   ]
  },
  {
   "cell_type": "code",
   "execution_count": 19,
   "id": "a9c28353",
   "metadata": {},
   "outputs": [
    {
     "name": "stdout",
     "output_type": "stream",
     "text": [
      "False\n"
     ]
    }
   ],
   "source": [
    "print (10 in l7)"
   ]
  },
  {
   "cell_type": "code",
   "execution_count": 20,
   "id": "7cfbf0e5",
   "metadata": {},
   "outputs": [
    {
     "name": "stdout",
     "output_type": "stream",
     "text": [
      "False\n"
     ]
    }
   ],
   "source": [
    "print (9 not in l7)"
   ]
  },
  {
   "cell_type": "code",
   "execution_count": 1,
   "id": "be68af49",
   "metadata": {},
   "outputs": [
    {
     "name": "stdout",
     "output_type": "stream",
     "text": [
      "[1, 2, 3, 'date', 'time', 'fun']\n"
     ]
    }
   ],
   "source": [
    "integer_list = [1,2,3]\n",
    "string_list = [\"date\",\"time\",\"fun\"]\n",
    "\n",
    "new_list = integer_list+string_list \n",
    "print (new_list)"
   ]
  },
  {
   "cell_type": "code",
   "execution_count": 2,
   "id": "7e015d78",
   "metadata": {},
   "outputs": [
    {
     "name": "stdout",
     "output_type": "stream",
     "text": [
      "8\n"
     ]
    }
   ],
   "source": [
    "integer_list = [1,2,3,4,5,6,7,8]\n",
    "print(len(integer_list))"
   ]
  },
  {
   "cell_type": "code",
   "execution_count": 5,
   "id": "fef974fb",
   "metadata": {},
   "outputs": [
    {
     "name": "stdout",
     "output_type": "stream",
     "text": [
      "70\n",
      "0\n",
      "1\n"
     ]
    }
   ],
   "source": [
    "integer_list = [1,2,3,4,5,6,70]\n",
    "\n",
    "#max and min\n",
    "print(max(integer_list)), \"-\", (min(integer_list))\n",
    "\n",
    "#index\n",
    "print(integer_list.index(1))\n",
    "\n",
    "#count()\n",
    "print (integer_list.count(70))"
   ]
  },
  {
   "cell_type": "code",
   "execution_count": 6,
   "id": "1b582a96",
   "metadata": {},
   "outputs": [
    {
     "name": "stdout",
     "output_type": "stream",
     "text": [
      "[36, 24, 56]\n",
      "[36, 24, 56, 57, 78, 92]\n",
      "[24, 36, 56, 57, 69, 78, 92]\n",
      "[92, 78, 69, 57, 56, 36, 24]\n",
      "[24, 36, 56, 57, 69, 78, 92]\n",
      "[24, 36, 57, 69, 78, 92]\n",
      "[36, 57, 69, 78, 92]\n"
     ]
    }
   ],
   "source": [
    "l=[]\n",
    "\n",
    "#add elements\n",
    "l.append(36)\n",
    "l.append(24)\n",
    "l.append(56)\n",
    "print(l)\n",
    "\n",
    "l.extend([57,78,92])\n",
    "print(l)\n",
    "\n",
    "l.insert(3,69) #position, value\n",
    "\n",
    "l.sort() #ascending order\n",
    "print(l)\n",
    "\n",
    "l.sort(reverse=True) #descending\n",
    "print(l)\n",
    "\n",
    "#reversing a list\n",
    "l.reverse()\n",
    "print(l)\n",
    "\n",
    "#deleting an element\n",
    "l.remove(56) #by value\n",
    "print(l)\n",
    "\n",
    "l.pop(0) #by index\n",
    "print(l)"
   ]
  },
  {
   "cell_type": "code",
   "execution_count": 13,
   "id": "7e1eca33",
   "metadata": {},
   "outputs": [
    {
     "name": "stdout",
     "output_type": "stream",
     "text": [
      "{'apple', 'banana', 'mango', 'guava'}\n",
      "{'strawberry', 'orange', 'apple', 'banana', 'mango', 'guava'}\n"
     ]
    }
   ],
   "source": [
    "fruits = {\"apple\",\"banana\",\"guava\"}\n",
    "fruits.add(\"mango\")\n",
    "print(fruits)\n",
    "fruits.update({\"orange\",\"strawberry\"})\n",
    "print(fruits)"
   ]
  },
  {
   "cell_type": "code",
   "execution_count": 14,
   "id": "ae5be5ee",
   "metadata": {},
   "outputs": [
    {
     "name": "stdout",
     "output_type": "stream",
     "text": [
      "{'strawberry', 'orange', 'banana', 'mango', 'guava'}\n"
     ]
    },
    {
     "ename": "KeyError",
     "evalue": "'apple'",
     "output_type": "error",
     "traceback": [
      "\u001b[1;31m---------------------------------------------------------------------------\u001b[0m",
      "\u001b[1;31mKeyError\u001b[0m                                  Traceback (most recent call last)",
      "Cell \u001b[1;32mIn[14], line 4\u001b[0m\n\u001b[0;32m      1\u001b[0m fruits\u001b[38;5;241m.\u001b[39mremove(\u001b[38;5;124m\"\u001b[39m\u001b[38;5;124mapple\u001b[39m\u001b[38;5;124m\"\u001b[39m)\n\u001b[0;32m      2\u001b[0m \u001b[38;5;28mprint\u001b[39m(fruits)\n\u001b[1;32m----> 4\u001b[0m \u001b[43mfruits\u001b[49m\u001b[38;5;241;43m.\u001b[39;49m\u001b[43mremove\u001b[49m\u001b[43m(\u001b[49m\u001b[38;5;124;43m\"\u001b[39;49m\u001b[38;5;124;43mapple\u001b[39;49m\u001b[38;5;124;43m\"\u001b[39;49m\u001b[43m)\u001b[49m\n\u001b[0;32m      5\u001b[0m \u001b[38;5;28mprint\u001b[39m(fruits)\n",
      "\u001b[1;31mKeyError\u001b[0m: 'apple'"
     ]
    }
   ],
   "source": [
    "fruits.remove(\"apple\")\n",
    "print(fruits)\n",
    "\n",
    "fruits.remove(\"apple\")\n",
    "print(fruits)"
   ]
  },
  {
   "cell_type": "code",
   "execution_count": 15,
   "id": "26f9cb01",
   "metadata": {},
   "outputs": [
    {
     "name": "stdout",
     "output_type": "stream",
     "text": [
      "{'strawberry', 'orange', 'banana', 'mango', 'guava'}\n"
     ]
    }
   ],
   "source": [
    "fruits.discard(\"apple\")\n",
    "print(fruits)"
   ]
  },
  {
   "cell_type": "code",
   "execution_count": 17,
   "id": "70474006",
   "metadata": {},
   "outputs": [
    {
     "name": "stdout",
     "output_type": "stream",
     "text": [
      "{'mango', 'guava', 'strawberry', 'orange', 'niurfnr', 'biurfbiufr', 'buiber', 'banana'}\n"
     ]
    }
   ],
   "source": [
    "fruits = fruits.union({\"niurfnr\",\"biurfbiufr\",\"buiber\"})\n",
    "print(fruits)"
   ]
  },
  {
   "cell_type": "code",
   "execution_count": 18,
   "id": "413b59c4",
   "metadata": {},
   "outputs": [
    {
     "name": "stdout",
     "output_type": "stream",
     "text": [
      "set()\n"
     ]
    }
   ],
   "source": [
    "fruits.clear()\n",
    "print(fruits)"
   ]
  },
  {
   "cell_type": "code",
   "execution_count": 23,
   "id": "6612ff5c",
   "metadata": {},
   "outputs": [
    {
     "name": "stdout",
     "output_type": "stream",
     "text": [
      "{'Name': 'Ram', 'Age': 23, 'Degree': 'b.tech'}\n"
     ]
    }
   ],
   "source": [
    "dic = {\"Name\":\"Ram\",\"Age\": 23, \"Degree\":\"b.tech\"}\n",
    "print(dic)"
   ]
  },
  {
   "cell_type": "code",
   "execution_count": 28,
   "id": "d699e7b2",
   "metadata": {},
   "outputs": [
    {
     "name": "stdout",
     "output_type": "stream",
     "text": [
      "Ram\n"
     ]
    }
   ],
   "source": [
    "print(dic[\"Name\"])"
   ]
  },
  {
   "cell_type": "code",
   "execution_count": 30,
   "id": "ef176cc3",
   "metadata": {},
   "outputs": [
    {
     "name": "stdout",
     "output_type": "stream",
     "text": [
      "name is: Ram\n"
     ]
    }
   ],
   "source": [
    "print(f\"name is: {dic['Name']}\")\n"
   ]
  },
  {
   "cell_type": "code",
   "execution_count": 32,
   "id": "10fa9ef8",
   "metadata": {},
   "outputs": [
    {
     "name": "stdout",
     "output_type": "stream",
     "text": [
      "Ram\n",
      "isha\n"
     ]
    }
   ],
   "source": [
    "print(dic['Name'])\n",
    "dic['Name'] = 'isha'\n",
    "print(dic['Name'])"
   ]
  },
  {
   "cell_type": "code",
   "execution_count": 34,
   "id": "9ff97833",
   "metadata": {},
   "outputs": [
    {
     "name": "stdout",
     "output_type": "stream",
     "text": [
      "{'Name': 'isha', 'Age': 23, 'Degree': 'b.tech'}\n",
      "{'Name': 'isha', 'Age': 23, 'Degree': 'b.tech', 'Country': 'India'}\n"
     ]
    }
   ],
   "source": [
    "print(dic)\n",
    "dic['Country'] = 'India'\n",
    "print(dic)"
   ]
  },
  {
   "cell_type": "code",
   "execution_count": 41,
   "id": "fed64079",
   "metadata": {},
   "outputs": [
    {
     "name": "stdout",
     "output_type": "stream",
     "text": [
      "{'Age': 23, 'Country': 'India'}\n"
     ]
    },
    {
     "ename": "KeyError",
     "evalue": "'Name'",
     "output_type": "error",
     "traceback": [
      "\u001b[1;31m---------------------------------------------------------------------------\u001b[0m",
      "\u001b[1;31mKeyError\u001b[0m                                  Traceback (most recent call last)",
      "Cell \u001b[1;32mIn[41], line 2\u001b[0m\n\u001b[0;32m      1\u001b[0m \u001b[38;5;28mprint\u001b[39m(dic)\n\u001b[1;32m----> 2\u001b[0m \u001b[38;5;28;01mdel\u001b[39;00m dic[\u001b[38;5;124m'\u001b[39m\u001b[38;5;124mName\u001b[39m\u001b[38;5;124m'\u001b[39m]\n\u001b[0;32m      3\u001b[0m \u001b[38;5;28mprint\u001b[39m(dic)\n",
      "\u001b[1;31mKeyError\u001b[0m: 'Name'"
     ]
    }
   ],
   "source": [
    "print(dic)\n",
    "del dic['Name']\n",
    "print(dic)"
   ]
  },
  {
   "cell_type": "code",
   "execution_count": 42,
   "id": "0586f02b",
   "metadata": {},
   "outputs": [
    {
     "name": "stdout",
     "output_type": "stream",
     "text": [
      "{'Age': 23, 'Country': 'India'}\n"
     ]
    },
    {
     "ename": "KeyError",
     "evalue": "'Degree'",
     "output_type": "error",
     "traceback": [
      "\u001b[1;31m---------------------------------------------------------------------------\u001b[0m",
      "\u001b[1;31mKeyError\u001b[0m                                  Traceback (most recent call last)",
      "Cell \u001b[1;32mIn[42], line 2\u001b[0m\n\u001b[0;32m      1\u001b[0m \u001b[38;5;28mprint\u001b[39m(dic)\n\u001b[1;32m----> 2\u001b[0m \u001b[43mdic\u001b[49m\u001b[38;5;241;43m.\u001b[39;49m\u001b[43mpop\u001b[49m\u001b[43m(\u001b[49m\u001b[38;5;124;43m'\u001b[39;49m\u001b[38;5;124;43mDegree\u001b[39;49m\u001b[38;5;124;43m'\u001b[39;49m\u001b[43m)\u001b[49m\n\u001b[0;32m      3\u001b[0m \u001b[38;5;28mprint\u001b[39m(dic)\n",
      "\u001b[1;31mKeyError\u001b[0m: 'Degree'"
     ]
    }
   ],
   "source": [
    "print(dic)\n",
    "dic.pop('Degree')\n",
    "print(dic)"
   ]
  },
  {
   "cell_type": "code",
   "execution_count": 43,
   "id": "ea165cd2",
   "metadata": {},
   "outputs": [
    {
     "name": "stdout",
     "output_type": "stream",
     "text": [
      "dict_keys(['Age', 'Country'])\n",
      "dict_values([23, 'India'])\n",
      "dict_items([('Age', 23), ('Country', 'India')])\n"
     ]
    }
   ],
   "source": [
    "print(dic.keys())\n",
    "print(dic.values())\n",
    "print(dic.items())"
   ]
  },
  {
   "cell_type": "code",
   "execution_count": 44,
   "id": "b34735a3",
   "metadata": {},
   "outputs": [
    {
     "name": "stdout",
     "output_type": "stream",
     "text": [
      "Age:23\n",
      "Country:India\n"
     ]
    }
   ],
   "source": [
    "for x,y in dic.items():\n",
    "    print(f\"{x}:{y}\")"
   ]
  },
  {
   "cell_type": "code",
   "execution_count": 45,
   "id": "294259c7",
   "metadata": {},
   "outputs": [
    {
     "name": "stdout",
     "output_type": "stream",
     "text": [
      "2\n",
      "23\n",
      "{'Age': 23, 'Country': 'India', 'Name': 'Rohit'}\n"
     ]
    }
   ],
   "source": [
    "print(len(dic))\n",
    "print(dic.get('Age'))\n",
    "dic.update({'Name' : 'Rohit'})\n",
    "print(dic)"
   ]
  },
  {
   "cell_type": "code",
   "execution_count": null,
   "id": "faf2b1f3",
   "metadata": {},
   "outputs": [],
   "source": []
  }
 ],
 "metadata": {
  "kernelspec": {
   "display_name": "Python 3 (ipykernel)",
   "language": "python",
   "name": "python3"
  },
  "language_info": {
   "codemirror_mode": {
    "name": "ipython",
    "version": 3
   },
   "file_extension": ".py",
   "mimetype": "text/x-python",
   "name": "python",
   "nbconvert_exporter": "python",
   "pygments_lexer": "ipython3",
   "version": "3.10.9"
  }
 },
 "nbformat": 4,
 "nbformat_minor": 5
}
