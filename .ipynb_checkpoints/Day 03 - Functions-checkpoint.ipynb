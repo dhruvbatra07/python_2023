{
 "cells": [
  {
   "cell_type": "code",
   "execution_count": 4,
   "id": "5edaca24",
   "metadata": {},
   "outputs": [],
   "source": [
    "#square function \n",
    "def perimeter():\n",
    "    side = int(input(\"enter the side of the square \"))\n",
    "    peri = 4*side\n",
    "    print (f\"the perimeter of the square is {peri}\")\n",
    "    "
   ]
  },
  {
   "cell_type": "code",
   "execution_count": 5,
   "id": "07cb29c0",
   "metadata": {
    "scrolled": true
   },
   "outputs": [
    {
     "name": "stdout",
     "output_type": "stream",
     "text": [
      "enter the side of the square4\n",
      "the perimeter of the square is 16\n"
     ]
    }
   ],
   "source": [
    "perimeter()"
   ]
  },
  {
   "cell_type": "code",
   "execution_count": 8,
   "id": "f7bcacbd",
   "metadata": {
    "scrolled": true
   },
   "outputs": [],
   "source": [
    "#square function with outside side value \n",
    "def perimeter(side):\n",
    "    peri = 4*side\n",
    "    print (f\"the perimeter of the square is {peri}\")\n",
    "    "
   ]
  },
  {
   "cell_type": "code",
   "execution_count": 9,
   "id": "f6a15f64",
   "metadata": {},
   "outputs": [
    {
     "name": "stdout",
     "output_type": "stream",
     "text": [
      "enter the side of the square 4\n",
      "the perimeter of the square is 16\n"
     ]
    }
   ],
   "source": [
    "side = int(input(\"enter the side of the square \"))\n",
    "perimeter(side)"
   ]
  },
  {
   "cell_type": "code",
   "execution_count": 10,
   "id": "dfeb1dce",
   "metadata": {},
   "outputs": [
    {
     "name": "stdout",
     "output_type": "stream",
     "text": [
      "4\n"
     ]
    }
   ],
   "source": [
    "print (side)"
   ]
  },
  {
   "cell_type": "code",
   "execution_count": 12,
   "id": "b6631baf",
   "metadata": {},
   "outputs": [],
   "source": [
    "# return function\n",
    "def perimeter(side):\n",
    "    peri = 4*side\n",
    "    print (f\"the perimeter of the square is {peri}\")\n",
    "    return peri \n"
   ]
  },
  {
   "cell_type": "code",
   "execution_count": 19,
   "id": "12e16976",
   "metadata": {},
   "outputs": [
    {
     "name": "stdout",
     "output_type": "stream",
     "text": [
      "enter the side of the square 3\n",
      "the perimeter of the square is 12\n"
     ]
    }
   ],
   "source": [
    "side = int(input(\"enter the side of the square \"))\n",
    "a = perimeter(side)"
   ]
  },
  {
   "cell_type": "code",
   "execution_count": 20,
   "id": "69216e44",
   "metadata": {},
   "outputs": [
    {
     "name": "stdout",
     "output_type": "stream",
     "text": [
      "12\n"
     ]
    }
   ],
   "source": [
    "print (a)"
   ]
  },
  {
   "cell_type": "code",
   "execution_count": 51,
   "id": "c9dca8d4",
   "metadata": {},
   "outputs": [],
   "source": [
    "def add_sub_2numbers (x,y = 1):\n",
    "    add = x + y\n",
    "    sub = x - y\n",
    "    return add,sub"
   ]
  },
  {
   "cell_type": "code",
   "execution_count": 52,
   "id": "0bf68986",
   "metadata": {},
   "outputs": [],
   "source": [
    "a,b = add_sub_2numbers (4)"
   ]
  },
  {
   "cell_type": "code",
   "execution_count": 53,
   "id": "525a89ab",
   "metadata": {},
   "outputs": [
    {
     "name": "stdout",
     "output_type": "stream",
     "text": [
      "5,3\n"
     ]
    }
   ],
   "source": [
    "print (f\"{a},{b}\")"
   ]
  },
  {
   "cell_type": "code",
   "execution_count": 59,
   "id": "f2ab26c6",
   "metadata": {},
   "outputs": [],
   "source": [
    "#arguments = (*args)\n",
    "\n",
    "def fun(*args):\n",
    "    print(args)\n",
    "    return args"
   ]
  },
  {
   "cell_type": "code",
   "execution_count": 66,
   "id": "b4828f79",
   "metadata": {},
   "outputs": [
    {
     "name": "stdout",
     "output_type": "stream",
     "text": [
      "('isha', 'hello')\n"
     ]
    }
   ],
   "source": [
    "z = fun(\"isha\",'hello')"
   ]
  },
  {
   "cell_type": "code",
   "execution_count": 67,
   "id": "3ebfba53",
   "metadata": {},
   "outputs": [
    {
     "name": "stdout",
     "output_type": "stream",
     "text": [
      "('isha', 'hello')\n"
     ]
    }
   ],
   "source": [
    "print (z)"
   ]
  },
  {
   "cell_type": "code",
   "execution_count": 69,
   "id": "cc38d6a8",
   "metadata": {},
   "outputs": [],
   "source": [
    "#keyword arguments = (**kwargs)\n",
    "\n",
    "def fun(**kwargs):\n",
    "    print(kwargs)\n",
    "    return kwargs\n"
   ]
  },
  {
   "cell_type": "code",
   "execution_count": 70,
   "id": "b19f85d8",
   "metadata": {},
   "outputs": [
    {
     "name": "stdout",
     "output_type": "stream",
     "text": [
      "{'first_name': 'dhruv', 'surname': 'batra', 'age': '18'}\n"
     ]
    }
   ],
   "source": [
    "v = fun(first_name=\"dhruv\", surname=\"batra\" , age=\"18\")"
   ]
  },
  {
   "cell_type": "code",
   "execution_count": 71,
   "id": "8a00bd4a",
   "metadata": {},
   "outputs": [
    {
     "name": "stdout",
     "output_type": "stream",
     "text": [
      "{'first_name': 'dhruv', 'surname': 'batra', 'age': '18'}\n"
     ]
    }
   ],
   "source": [
    "print (v)"
   ]
  },
  {
   "cell_type": "code",
   "execution_count": 74,
   "id": "9ad0c7a9",
   "metadata": {},
   "outputs": [],
   "source": [
    "# anonymous one line functions\n",
    "func = lambda x : x*5"
   ]
  },
  {
   "cell_type": "code",
   "execution_count": 75,
   "id": "28deecd1",
   "metadata": {},
   "outputs": [
    {
     "name": "stdout",
     "output_type": "stream",
     "text": [
      "30\n"
     ]
    }
   ],
   "source": [
    "print (func(6))"
   ]
  },
  {
   "cell_type": "code",
   "execution_count": 92,
   "id": "56c270c4",
   "metadata": {},
   "outputs": [],
   "source": [
    "#CALCULATOR\n",
    "def calculator (a,b,operation):\n",
    "    def add(): \n",
    "        return (a+b)\n",
    "    def sub():\n",
    "        return (a-b)\n",
    "    def mul():\n",
    "        return (a*b)\n",
    "    def div():\n",
    "        return (a/b)\n",
    "    def doublediv():\n",
    "        return (a//b)\n",
    "    def mod():\n",
    "        return (a%b)\n",
    "    def power():\n",
    "        return (a**b)\n",
    "\n",
    "    if (operation == \"+\"):\n",
    "        return add()\n",
    "    elif (operation == \"-\"):\n",
    "        return sub()\n",
    "    elif (operation == \"*\"):\n",
    "        return mul()\n",
    "    elif (operation == \"/\"):\n",
    "        return div()\n",
    "    elif (operation == \"//\"):\n",
    "        return doublediv()\n",
    "    elif (operation == \"%\"):\n",
    "        return mod()\n",
    "    elif (operation == \"**\"):\n",
    "        return power()\n",
    "    else:\n",
    "        print (\"N.A\")  \n",
    "\n"
   ]
  },
  {
   "cell_type": "code",
   "execution_count": 93,
   "id": "d52f8760",
   "metadata": {},
   "outputs": [
    {
     "data": {
      "text/plain": [
       "4"
      ]
     },
     "execution_count": 93,
     "metadata": {},
     "output_type": "execute_result"
    }
   ],
   "source": [
    "calculator (4,5,\"%\")"
   ]
  },
  {
   "cell_type": "code",
   "execution_count": null,
   "id": "e3f3394a",
   "metadata": {},
   "outputs": [],
   "source": []
  }
 ],
 "metadata": {
  "kernelspec": {
   "display_name": "Python 3 (ipykernel)",
   "language": "python",
   "name": "python3"
  },
  "language_info": {
   "codemirror_mode": {
    "name": "ipython",
    "version": 3
   },
   "file_extension": ".py",
   "mimetype": "text/x-python",
   "name": "python",
   "nbconvert_exporter": "python",
   "pygments_lexer": "ipython3",
   "version": "3.10.9"
  }
 },
 "nbformat": 4,
 "nbformat_minor": 5
}
