{
 "cells": [
  {
   "cell_type": "markdown",
   "id": "e7da2829",
   "metadata": {},
   "source": [
    "### Catch all exceptions"
   ]
  },
  {
   "cell_type": "code",
   "execution_count": 4,
   "id": "ac1564e4",
   "metadata": {},
   "outputs": [
    {
     "name": "stdout",
     "output_type": "stream",
     "text": [
      "enter a num: 4\n",
      "enter a num: 5\n",
      "can only concatenate str (not \"int\") to str\n",
      "end of the program\n"
     ]
    }
   ],
   "source": [
    "try:\n",
    "    a = int(input(\"enter a num: \"))\n",
    "    print('hello' + a )\n",
    "\n",
    "except Exception as e:\n",
    "    print(e)    \n",
    "    \n",
    "finally:\n",
    "    print(\"end of the program\")"
   ]
  },
  {
   "cell_type": "markdown",
   "id": "d7f727c0",
   "metadata": {},
   "source": [
    "### Catch specific Exception"
   ]
  },
  {
   "cell_type": "code",
   "execution_count": 6,
   "id": "e4bf169a",
   "metadata": {},
   "outputs": [
    {
     "name": "stdout",
     "output_type": "stream",
     "text": [
      "enter a num: 7\n",
      "enter b num: 0\n",
      "division by zero\n",
      "end of the program\n"
     ]
    }
   ],
   "source": [
    "try:\n",
    "    a = int(input(\"enter a num: \"))\n",
    "    b = int(input(\"enter b num: \"))\n",
    "    print(a/b)\n",
    "\n",
    "except ZeroDivisionError as z:\n",
    "    print(z)    \n",
    "    \n",
    "finally:\n",
    "    print(\"end of the program\")"
   ]
  },
  {
   "cell_type": "markdown",
   "id": "8cb1f2cb",
   "metadata": {},
   "source": [
    "### Raise Exception"
   ]
  },
  {
   "cell_type": "code",
   "execution_count": 10,
   "id": "2f147273",
   "metadata": {},
   "outputs": [
    {
     "name": "stdout",
     "output_type": "stream",
     "text": [
      "enter a num: 5\n",
      "enter b num: 0\n"
     ]
    },
    {
     "ename": "ZeroDivisionError",
     "evalue": "divide by 0 not possible",
     "output_type": "error",
     "traceback": [
      "\u001b[1;31m---------------------------------------------------------------------------\u001b[0m",
      "\u001b[1;31mZeroDivisionError\u001b[0m                         Traceback (most recent call last)",
      "Cell \u001b[1;32mIn[10], line 4\u001b[0m\n\u001b[0;32m      2\u001b[0m b \u001b[38;5;241m=\u001b[39m \u001b[38;5;28mint\u001b[39m(\u001b[38;5;28minput\u001b[39m(\u001b[38;5;124m\"\u001b[39m\u001b[38;5;124menter b num: \u001b[39m\u001b[38;5;124m\"\u001b[39m))\n\u001b[0;32m      3\u001b[0m \u001b[38;5;28;01mif\u001b[39;00m (b \u001b[38;5;241m==\u001b[39m \u001b[38;5;241m0\u001b[39m):\n\u001b[1;32m----> 4\u001b[0m     \u001b[38;5;28;01mraise\u001b[39;00m \u001b[38;5;167;01mZeroDivisionError\u001b[39;00m (\u001b[38;5;124m\"\u001b[39m\u001b[38;5;124mdivide by 0 not possible\u001b[39m\u001b[38;5;124m\"\u001b[39m)\n\u001b[0;32m      5\u001b[0m \u001b[38;5;28;01melse\u001b[39;00m:\n\u001b[0;32m      6\u001b[0m     \u001b[38;5;28mprint\u001b[39m (a\u001b[38;5;241m/\u001b[39mb)\n",
      "\u001b[1;31mZeroDivisionError\u001b[0m: divide by 0 not possible"
     ]
    }
   ],
   "source": [
    "a = int(input(\"enter a num: \"))\n",
    "b = int(input(\"enter b num: \"))\n",
    "if (b == 0):\n",
    "    raise ZeroDivisionError (\"divide by 0 not possible\")\n",
    "else:\n",
    "    print (a/b)"
   ]
  },
  {
   "cell_type": "code",
   "execution_count": null,
   "id": "ed27f7b8",
   "metadata": {},
   "outputs": [],
   "source": []
  }
 ],
 "metadata": {
  "kernelspec": {
   "display_name": "Python 3 (ipykernel)",
   "language": "python",
   "name": "python3"
  },
  "language_info": {
   "codemirror_mode": {
    "name": "ipython",
    "version": 3
   },
   "file_extension": ".py",
   "mimetype": "text/x-python",
   "name": "python",
   "nbconvert_exporter": "python",
   "pygments_lexer": "ipython3",
   "version": "3.10.9"
  }
 },
 "nbformat": 4,
 "nbformat_minor": 5
}
