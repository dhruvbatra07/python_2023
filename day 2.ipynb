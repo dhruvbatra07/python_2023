{
 "cells": [
  {
   "cell_type": "code",
   "execution_count": 3,
   "id": "c230c8f7",
   "metadata": {},
   "outputs": [
    {
     "name": "stdout",
     "output_type": "stream",
     "text": [
      "enter your age- 17\n",
      "you are a minor !\n"
     ]
    }
   ],
   "source": [
    "#if - else\n",
    "age = int(input(\"enter your age- \"))\n",
    "if age >= 18:\n",
    "    print (\"you are an adult !\")\n",
    "else:\n",
    "    print (\"you are a minor !\")"
   ]
  },
  {
   "cell_type": "code",
   "execution_count": 12,
   "id": "672a5270",
   "metadata": {},
   "outputs": [
    {
     "name": "stdout",
     "output_type": "stream",
     "text": [
      "enter your age- 66\n",
      "you are a senior citizen !\n"
     ]
    }
   ],
   "source": [
    "age = int(input(\"enter your age- \"))\n",
    "if age >=18 and age <=65:\n",
    "    print (\"you are an adult !\")\n",
    "elif age<18:\n",
    "    print (\"you are a mimor !\")\n",
    "else: \n",
    "    print (\"you are a senior citizen !\")"
   ]
  },
  {
   "cell_type": "code",
   "execution_count": 13,
   "id": "bb3fcbcb",
   "metadata": {},
   "outputs": [
    {
     "data": {
      "text/plain": [
       "[1, 4, 7, 10, 13]"
      ]
     },
     "execution_count": 13,
     "metadata": {},
     "output_type": "execute_result"
    }
   ],
   "source": [
    "list (range(1,15,3))"
   ]
  },
  {
   "cell_type": "code",
   "execution_count": 14,
   "id": "11e64388",
   "metadata": {},
   "outputs": [
    {
     "data": {
      "text/plain": [
       "[1, 2, 3, 4, 5, 6, 7, 8, 9, 10, 11, 12, 13, 14]"
      ]
     },
     "execution_count": 14,
     "metadata": {},
     "output_type": "execute_result"
    }
   ],
   "source": [
    "list (range(1,15))"
   ]
  },
  {
   "cell_type": "code",
   "execution_count": 15,
   "id": "4b288672",
   "metadata": {},
   "outputs": [
    {
     "data": {
      "text/plain": [
       "[10, 9, 8, 7, 6, 5, 4, 3, 2]"
      ]
     },
     "execution_count": 15,
     "metadata": {},
     "output_type": "execute_result"
    }
   ],
   "source": [
    "list (range(10,1,-1))"
   ]
  },
  {
   "cell_type": "code",
   "execution_count": 20,
   "id": "3f83cd9d",
   "metadata": {},
   "outputs": [
    {
     "name": "stdout",
     "output_type": "stream",
     "text": [
      "0\n",
      "1\n",
      "2\n",
      "3\n",
      "4\n",
      "5\n",
      "6\n",
      "7\n",
      "8\n",
      "9\n",
      "10\n",
      "11\n",
      "12\n",
      "13\n",
      "14\n"
     ]
    }
   ],
   "source": [
    "for count in (range(0,15)):\n",
    "    print (count)"
   ]
  },
  {
   "cell_type": "code",
   "execution_count": 22,
   "id": "383610b6",
   "metadata": {},
   "outputs": [
    {
     "name": "stdout",
     "output_type": "stream",
     "text": [
      "astor\n",
      "zest\n",
      "ciaz\n"
     ]
    }
   ],
   "source": [
    "#for loop\n",
    "cars = [\"astor\", \"zest\", \"ciaz\"]\n",
    "for n in cars:\n",
    "    print (n)\n"
   ]
  },
  {
   "cell_type": "code",
   "execution_count": 25,
   "id": "a1a3aff0",
   "metadata": {},
   "outputs": [
    {
     "name": "stdout",
     "output_type": "stream",
     "text": [
      "20\n",
      "19\n",
      "18\n",
      "17\n",
      "16\n",
      "15\n",
      "14\n",
      "13\n",
      "12\n",
      "11\n"
     ]
    }
   ],
   "source": [
    "#while loop\n",
    "count = 20\n",
    "while count >10:\n",
    "    print (count)\n",
    "    count -=1\n"
   ]
  },
  {
   "cell_type": "code",
   "execution_count": 32,
   "id": "4bcaab87",
   "metadata": {},
   "outputs": [
    {
     "name": "stdout",
     "output_type": "stream",
     "text": [
      "1\n",
      "2\n",
      "3\n",
      "no\n"
     ]
    }
   ],
   "source": [
    "numbers = [1,2,3,4,5]\n",
    "for number in numbers:\n",
    "    if number==4:\n",
    "        break\n",
    "    print (number)     #for family\n",
    "print (\"no\")\n"
   ]
  },
  {
   "cell_type": "code",
   "execution_count": 34,
   "id": "5b42ada5",
   "metadata": {},
   "outputs": [
    {
     "name": "stdout",
     "output_type": "stream",
     "text": [
      "1\n",
      "2\n",
      "3\n",
      "5\n"
     ]
    }
   ],
   "source": [
    "numbers = [1,2,3,4,5]\n",
    "for number in numbers:\n",
    "    if number==4:\n",
    "        continue\n",
    "    print (number)     #for family\n",
    "\n"
   ]
  },
  {
   "cell_type": "code",
   "execution_count": 38,
   "id": "ed08fae2",
   "metadata": {},
   "outputs": [
    {
     "name": "stdout",
     "output_type": "stream",
     "text": [
      "enter your marks for the grade : 90\n",
      "A\n"
     ]
    }
   ],
   "source": [
    "# program 1\n",
    "grade = int (input(\"enter your marks for the grade : \"))\n",
    "if grade >= 90:\n",
    "    print (\"A\")\n",
    "elif grade >=80 and grade <90:\n",
    "    print (\"B\")\n",
    "elif grade >=70 and grade <80:\n",
    "    print (\"C\")\n",
    "else:\n",
    "    print (\"D\")"
   ]
  },
  {
   "cell_type": "code",
   "execution_count": 49,
   "id": "dd1b6be7",
   "metadata": {},
   "outputs": [
    {
     "name": "stdout",
     "output_type": "stream",
     "text": [
      "2450\n"
     ]
    }
   ],
   "source": [
    "# program 3\n",
    "sum = 0\n",
    "for count in (range(1,100)):\n",
    "    if count % 2 == 0: \n",
    "           sum += count\n",
    "print (sum) \n",
    "        "
   ]
  },
  {
   "cell_type": "code",
   "execution_count": 55,
   "id": "240ce913",
   "metadata": {},
   "outputs": [
    {
     "name": "stdout",
     "output_type": "stream",
     "text": [
      "enter the number 4\n",
      "enter the number 5\n",
      "enter the number -1\n",
      "9\n"
     ]
    }
   ],
   "source": [
    "# program 5 \n",
    "sum = 0\n",
    "n = int(input(\"enter the number \"))\n",
    "while n>0:\n",
    "        sum += n\n",
    "        n = int(input(\"enter the number \"))\n",
    "print (sum)"
   ]
  },
  {
   "cell_type": "code",
   "execution_count": 65,
   "id": "ce6ead14",
   "metadata": {},
   "outputs": [
    {
     "name": "stdout",
     "output_type": "stream",
     "text": [
      "1 is neither prime, nor composite\n",
      "2 is prime\n",
      "3 is prime\n",
      "4 is composite\n",
      "5 is prime\n",
      "6 is composite\n",
      "7 is prime\n",
      "8 is composite\n",
      "9 is composite\n"
     ]
    }
   ],
   "source": [
    "# program 4\n",
    "for count in (range(1,10)):\n",
    "    \n",
    "    # we are assuming this number is prime - FLAG VARIABLE\n",
    "    isPrime = True\n",
    "    \n",
    "    if count ==1:\n",
    "        print (\"1 is neither prime, nor composite\")\n",
    "    else:\n",
    "        for i in (range(2,count)):\n",
    "            if count % i == 0:\n",
    "                isPrime = False\n",
    "                break\n",
    "        if(isPrime==True):\n",
    "            print(f\"{count} is prime\")\n",
    "        else:\n",
    "            print(f\"{count} is composite\")\n",
    "        \n",
    "                \n",
    "        "
   ]
  },
  {
   "cell_type": "code",
   "execution_count": 74,
   "id": "56ca7794",
   "metadata": {
    "scrolled": true
   },
   "outputs": [
    {
     "name": "stdout",
     "output_type": "stream",
     "text": [
      "enter the number of rows 5\n",
      "#\n",
      "##\n",
      "###\n",
      "####\n",
      "#####\n"
     ]
    }
   ],
   "source": [
    "rows = int(input(\"enter the number of rows \"))\n",
    "for i in range (0,rows):\n",
    "    for g in range (0,i+1):\n",
    "        print (\"#\",end=\"\")\n",
    "    print ()\n",
    "    \n",
    "    \n"
   ]
  },
  {
   "cell_type": "code",
   "execution_count": null,
   "id": "ba2f72f8",
   "metadata": {},
   "outputs": [],
   "source": [
    "\n"
   ]
  }
 ],
 "metadata": {
  "kernelspec": {
   "display_name": "Python 3 (ipykernel)",
   "language": "python",
   "name": "python3"
  },
  "language_info": {
   "codemirror_mode": {
    "name": "ipython",
    "version": 3
   },
   "file_extension": ".py",
   "mimetype": "text/x-python",
   "name": "python",
   "nbconvert_exporter": "python",
   "pygments_lexer": "ipython3",
   "version": "3.10.9"
  }
 },
 "nbformat": 4,
 "nbformat_minor": 5
}
