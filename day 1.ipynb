{
 "cells": [
  {
   "cell_type": "code",
   "execution_count": 1,
   "id": "5c96e8eb",
   "metadata": {},
   "outputs": [
    {
     "name": "stdout",
     "output_type": "stream",
     "text": [
      "7\n"
     ]
    }
   ],
   "source": [
    "print (7)"
   ]
  },
  {
   "cell_type": "code",
   "execution_count": 2,
   "id": "f3dbbd52",
   "metadata": {},
   "outputs": [
    {
     "name": "stdout",
     "output_type": "stream",
     "text": [
      "hello hi\n"
     ]
    }
   ],
   "source": [
    "print (\"hello hi\")"
   ]
  },
  {
   "cell_type": "code",
   "execution_count": 3,
   "id": "906b4280",
   "metadata": {},
   "outputs": [
    {
     "name": "stdout",
     "output_type": "stream",
     "text": [
      "hello dhruv\n"
     ]
    }
   ],
   "source": [
    "name = 'dhruv'\n",
    "print ('hello',name)"
   ]
  },
  {
   "cell_type": "code",
   "execution_count": 5,
   "id": "53dafdff",
   "metadata": {},
   "outputs": [
    {
     "name": "stdout",
     "output_type": "stream",
     "text": [
      "hello dhruv\n"
     ]
    }
   ],
   "source": [
    "print ('hello '+ name)"
   ]
  },
  {
   "cell_type": "code",
   "execution_count": 6,
   "id": "62d0ee43",
   "metadata": {},
   "outputs": [
    {
     "name": "stdout",
     "output_type": "stream",
     "text": [
      "hello dhruv \n"
     ]
    }
   ],
   "source": [
    "print (f\"hello {name} \")"
   ]
  },
  {
   "cell_type": "code",
   "execution_count": 10,
   "id": "583551dc",
   "metadata": {},
   "outputs": [
    {
     "name": "stdout",
     "output_type": "stream",
     "text": [
      ".\n"
     ]
    }
   ],
   "source": [
    "# hello name is dhruv\n",
    "print ('.')"
   ]
  },
  {
   "cell_type": "code",
   "execution_count": 11,
   "id": "64c1923f",
   "metadata": {},
   "outputs": [],
   "source": [
    "#integer\n",
    "x = 10\n",
    "\n",
    "#float\n",
    "y = 9.2\n",
    "\n",
    "#complex\n",
    "z= 2 + 3j\n"
   ]
  },
  {
   "cell_type": "code",
   "execution_count": 12,
   "id": "ef309d33",
   "metadata": {},
   "outputs": [
    {
     "data": {
      "text/plain": [
       "int"
      ]
     },
     "execution_count": 12,
     "metadata": {},
     "output_type": "execute_result"
    }
   ],
   "source": [
    "type (x)"
   ]
  },
  {
   "cell_type": "code",
   "execution_count": 13,
   "id": "318f9ebd",
   "metadata": {},
   "outputs": [
    {
     "data": {
      "text/plain": [
       "float"
      ]
     },
     "execution_count": 13,
     "metadata": {},
     "output_type": "execute_result"
    }
   ],
   "source": [
    "type (y)"
   ]
  },
  {
   "cell_type": "code",
   "execution_count": 14,
   "id": "87850375",
   "metadata": {},
   "outputs": [
    {
     "data": {
      "text/plain": [
       "complex"
      ]
     },
     "execution_count": 14,
     "metadata": {},
     "output_type": "execute_result"
    }
   ],
   "source": [
    "type (z)"
   ]
  },
  {
   "cell_type": "code",
   "execution_count": 15,
   "id": "b8ef9654",
   "metadata": {},
   "outputs": [],
   "source": [
    "#boolean \n",
    "f = True"
   ]
  },
  {
   "cell_type": "code",
   "execution_count": 16,
   "id": "24b1f351",
   "metadata": {},
   "outputs": [
    {
     "data": {
      "text/plain": [
       "bool"
      ]
     },
     "execution_count": 16,
     "metadata": {},
     "output_type": "execute_result"
    }
   ],
   "source": [
    "type (f)"
   ]
  },
  {
   "cell_type": "code",
   "execution_count": 18,
   "id": "14a6fdb6",
   "metadata": {},
   "outputs": [
    {
     "name": "stdout",
     "output_type": "stream",
     "text": [
      "7 hello\n"
     ]
    }
   ],
   "source": [
    "print (7 , 'hello')"
   ]
  },
  {
   "cell_type": "code",
   "execution_count": 20,
   "id": "da049f83",
   "metadata": {},
   "outputs": [
    {
     "name": "stdout",
     "output_type": "stream",
     "text": [
      "[10, 'hello', 3.14]\n"
     ]
    }
   ],
   "source": [
    "mixed_list = [10, 'hello', 3.14 ]\n",
    "print (mixed_list)"
   ]
  },
  {
   "cell_type": "code",
   "execution_count": 28,
   "id": "93e00111",
   "metadata": {},
   "outputs": [
    {
     "name": "stdout",
     "output_type": "stream",
     "text": [
      "<class 'str'>\n"
     ]
    }
   ],
   "source": [
    "#string\n",
    "string = 'hello , hi'\n",
    "print (type (string))"
   ]
  },
  {
   "cell_type": "code",
   "execution_count": 30,
   "id": "5aef594b",
   "metadata": {},
   "outputs": [
    {
     "name": "stdout",
     "output_type": "stream",
     "text": [
      "<class 'list'>\n",
      "[10, 12, 13, 16]\n"
     ]
    }
   ],
   "source": [
    "#list\n",
    "list = [10,12,13,16]\n",
    "print (type(list))\n",
    "print (list)"
   ]
  },
  {
   "cell_type": "code",
   "execution_count": 33,
   "id": "799ea973",
   "metadata": {},
   "outputs": [
    {
     "name": "stdout",
     "output_type": "stream",
     "text": [
      "<class 'tuple'>\n"
     ]
    }
   ],
   "source": [
    "#tuples\n",
    "names = ('dhruv','isha')\n",
    "print (type(names))"
   ]
  },
  {
   "cell_type": "code",
   "execution_count": 35,
   "id": "7a7fda81",
   "metadata": {},
   "outputs": [
    {
     "name": "stdout",
     "output_type": "stream",
     "text": [
      "<class 'dict'>\n",
      "{'name': 'dhruv', 'age': 19}\n"
     ]
    }
   ],
   "source": [
    "#dictionary\n",
    "personaldetails = {'name':'dhruv','age':19}\n",
    "print (type(personaldetails))\n",
    "print (personaldetails)"
   ]
  },
  {
   "cell_type": "code",
   "execution_count": 38,
   "id": "c1c28225",
   "metadata": {},
   "outputs": [
    {
     "name": "stdout",
     "output_type": "stream",
     "text": [
      "<class 'set'>\n",
      "{9, 10, 5, 7}\n"
     ]
    }
   ],
   "source": [
    "#set\n",
    "set = {5,7,9,10,10}\n",
    "print (type(set))\n",
    "print (set)"
   ]
  },
  {
   "cell_type": "code",
   "execution_count": 40,
   "id": "5e80203f",
   "metadata": {},
   "outputs": [
    {
     "name": "stdout",
     "output_type": "stream",
     "text": [
      "<class 'frozenset'>\n",
      "frozenset({1, 2, 3, 4, 5})\n"
     ]
    }
   ],
   "source": [
    "#frozenset\n",
    "immutable = frozenset ({1,2,3,4,5})\n",
    "print (type(immutable))\n",
    "print (immutable)"
   ]
  },
  {
   "cell_type": "code",
   "execution_count": 42,
   "id": "e16f4738",
   "metadata": {},
   "outputs": [
    {
     "name": "stdout",
     "output_type": "stream",
     "text": [
      "<class 'NoneType'>\n",
      "None\n"
     ]
    }
   ],
   "source": [
    "#none type\n",
    "result = None\n",
    "print (type(result))\n",
    "print (result)"
   ]
  },
  {
   "cell_type": "code",
   "execution_count": 47,
   "id": "c73ba6ff",
   "metadata": {},
   "outputs": [
    {
     "name": "stdout",
     "output_type": "stream",
     "text": [
      "d\n",
      "d\n"
     ]
    }
   ],
   "source": [
    "#input\n",
    "a = input()\n",
    "print (a)"
   ]
  },
  {
   "cell_type": "code",
   "execution_count": 50,
   "id": "55c7b670",
   "metadata": {},
   "outputs": [
    {
     "name": "stdout",
     "output_type": "stream",
     "text": [
      "enter your name dhruv\n",
      "the name is dhruv\n"
     ]
    }
   ],
   "source": [
    "d = input('enter your name ')\n",
    "print (\"the name is \"+ d)"
   ]
  },
  {
   "cell_type": "code",
   "execution_count": 51,
   "id": "d4b0e8f7",
   "metadata": {},
   "outputs": [
    {
     "name": "stdout",
     "output_type": "stream",
     "text": [
      "enter your age 18\n",
      "the age is 18\n"
     ]
    }
   ],
   "source": [
    "d = input('enter your age ')\n",
    "print (\"the age is \"+ d)"
   ]
  },
  {
   "cell_type": "code",
   "execution_count": 52,
   "id": "3d4dfc99",
   "metadata": {},
   "outputs": [
    {
     "name": "stdout",
     "output_type": "stream",
     "text": [
      "<class 'str'>\n"
     ]
    }
   ],
   "source": [
    "print (type(d))"
   ]
  },
  {
   "cell_type": "code",
   "execution_count": 57,
   "id": "aff9872a",
   "metadata": {},
   "outputs": [
    {
     "name": "stdout",
     "output_type": "stream",
     "text": [
      "enter your age 5\n",
      "the age is  5\n"
     ]
    }
   ],
   "source": [
    "d = int (input('enter your age '))\n",
    "print (\"the age is \", d)"
   ]
  },
  {
   "cell_type": "code",
   "execution_count": 58,
   "id": "3f9c6ab4",
   "metadata": {},
   "outputs": [
    {
     "name": "stdout",
     "output_type": "stream",
     "text": [
      "<class 'int'>\n"
     ]
    }
   ],
   "source": [
    "print (type(d))"
   ]
  },
  {
   "cell_type": "code",
   "execution_count": 60,
   "id": "d8daabd8",
   "metadata": {},
   "outputs": [
    {
     "name": "stdout",
     "output_type": "stream",
     "text": [
      "5\n"
     ]
    }
   ],
   "source": [
    "print (2+3)\n"
   ]
  },
  {
   "cell_type": "code",
   "execution_count": 61,
   "id": "905a07f4",
   "metadata": {},
   "outputs": [
    {
     "name": "stdout",
     "output_type": "stream",
     "text": [
      "-1\n"
     ]
    }
   ],
   "source": [
    "print (6-7)"
   ]
  },
  {
   "cell_type": "code",
   "execution_count": 62,
   "id": "06477cd8",
   "metadata": {},
   "outputs": [
    {
     "name": "stdout",
     "output_type": "stream",
     "text": [
      "16\n"
     ]
    }
   ],
   "source": [
    "print (2*8)"
   ]
  },
  {
   "cell_type": "code",
   "execution_count": 63,
   "id": "39571203",
   "metadata": {},
   "outputs": [
    {
     "name": "stdout",
     "output_type": "stream",
     "text": [
      "2.5\n"
     ]
    }
   ],
   "source": [
    "print (10/4)"
   ]
  },
  {
   "cell_type": "code",
   "execution_count": 64,
   "id": "da7159b9",
   "metadata": {},
   "outputs": [
    {
     "name": "stdout",
     "output_type": "stream",
     "text": [
      "2\n"
     ]
    }
   ],
   "source": [
    "print (10//4)"
   ]
  },
  {
   "cell_type": "code",
   "execution_count": 65,
   "id": "3c515967",
   "metadata": {},
   "outputs": [
    {
     "name": "stdout",
     "output_type": "stream",
     "text": [
      "2\n"
     ]
    }
   ],
   "source": [
    "print (10%4)"
   ]
  },
  {
   "cell_type": "code",
   "execution_count": 66,
   "id": "e5167b24",
   "metadata": {},
   "outputs": [
    {
     "name": "stdout",
     "output_type": "stream",
     "text": [
      "9\n"
     ]
    }
   ],
   "source": [
    "print (3**2)"
   ]
  },
  {
   "cell_type": "code",
   "execution_count": 67,
   "id": "fea36860",
   "metadata": {},
   "outputs": [
    {
     "name": "stdout",
     "output_type": "stream",
     "text": [
      "False\n"
     ]
    }
   ],
   "source": [
    "print (3==4)"
   ]
  },
  {
   "cell_type": "code",
   "execution_count": 68,
   "id": "6fd9cf7d",
   "metadata": {},
   "outputs": [
    {
     "name": "stdout",
     "output_type": "stream",
     "text": [
      "True\n"
     ]
    }
   ],
   "source": [
    "print (4!=5)"
   ]
  },
  {
   "cell_type": "code",
   "execution_count": 69,
   "id": "f62a4a35",
   "metadata": {},
   "outputs": [
    {
     "name": "stdout",
     "output_type": "stream",
     "text": [
      "False\n"
     ]
    }
   ],
   "source": [
    "print (5>6)"
   ]
  },
  {
   "cell_type": "code",
   "execution_count": 70,
   "id": "903ab49e",
   "metadata": {},
   "outputs": [
    {
     "name": "stdout",
     "output_type": "stream",
     "text": [
      "True\n"
     ]
    }
   ],
   "source": [
    "print (6<7)"
   ]
  },
  {
   "cell_type": "code",
   "execution_count": 71,
   "id": "fe21bf1d",
   "metadata": {},
   "outputs": [
    {
     "name": "stdout",
     "output_type": "stream",
     "text": [
      "True\n"
     ]
    }
   ],
   "source": [
    "print (5<=5)"
   ]
  },
  {
   "cell_type": "code",
   "execution_count": 72,
   "id": "7601038e",
   "metadata": {},
   "outputs": [
    {
     "name": "stdout",
     "output_type": "stream",
     "text": [
      "True\n"
     ]
    }
   ],
   "source": [
    "print (6>=6)"
   ]
  },
  {
   "cell_type": "code",
   "execution_count": 75,
   "id": "19888aa6",
   "metadata": {},
   "outputs": [
    {
     "name": "stdout",
     "output_type": "stream",
     "text": [
      "10\n"
     ]
    }
   ],
   "source": [
    "s = 7\n",
    "s+=3\n",
    "print (s)"
   ]
  },
  {
   "cell_type": "code",
   "execution_count": 76,
   "id": "f854142b",
   "metadata": {},
   "outputs": [
    {
     "name": "stdout",
     "output_type": "stream",
     "text": [
      "False\n"
     ]
    }
   ],
   "source": [
    "print ((4==5) and (3==4))"
   ]
  },
  {
   "cell_type": "code",
   "execution_count": 77,
   "id": "e5c2d9ba",
   "metadata": {},
   "outputs": [
    {
     "name": "stdout",
     "output_type": "stream",
     "text": [
      "True\n"
     ]
    }
   ],
   "source": [
    "print ((4==5) or (4==4))"
   ]
  },
  {
   "cell_type": "code",
   "execution_count": 79,
   "id": "584c19eb",
   "metadata": {},
   "outputs": [
    {
     "name": "stdout",
     "output_type": "stream",
     "text": [
      "True\n"
     ]
    }
   ],
   "source": [
    "print ( not (3==4))"
   ]
  },
  {
   "cell_type": "code",
   "execution_count": 2,
   "id": "4f898b7e",
   "metadata": {},
   "outputs": [
    {
     "name": "stdout",
     "output_type": "stream",
     "text": [
      "please enter your name moses\n",
      "my name is moses\n"
     ]
    }
   ],
   "source": [
    "f = input ('please enter your name ')\n",
    "print ('my name is' , f)"
   ]
  },
  {
   "cell_type": "code",
   "execution_count": null,
   "id": "72da780e",
   "metadata": {},
   "outputs": [],
   "source": []
  }
 ],
 "metadata": {
  "kernelspec": {
   "display_name": "Python 3 (ipykernel)",
   "language": "python",
   "name": "python3"
  },
  "language_info": {
   "codemirror_mode": {
    "name": "ipython",
    "version": 3
   },
   "file_extension": ".py",
   "mimetype": "text/x-python",
   "name": "python",
   "nbconvert_exporter": "python",
   "pygments_lexer": "ipython3",
   "version": "3.11.4"
  }
 },
 "nbformat": 4,
 "nbformat_minor": 5
}
