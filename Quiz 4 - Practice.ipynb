{
 "cells": [
  {
   "cell_type": "code",
   "execution_count": 3,
   "id": "e72efe75",
   "metadata": {},
   "outputs": [],
   "source": [
    "# calculate the area of a triangle \n",
    "def areaTri():\n",
    "    base = int(input(\"enter the base of the triange: \"))\n",
    "    height = int(input(\"enter the height of the triangle: \"))\n",
    "    triangle = 1/2*(base*height)\n",
    "    print (f\"the area of the triangle is {triangle}\")"
   ]
  },
  {
   "cell_type": "code",
   "execution_count": 4,
   "id": "ac02903e",
   "metadata": {},
   "outputs": [
    {
     "name": "stdout",
     "output_type": "stream",
     "text": [
      "enter the base of the triange: 8\n",
      "enter the height of the triangle: 7\n",
      "the area of the triangle is 28.0\n"
     ]
    }
   ],
   "source": [
    "areaTri()"
   ]
  },
  {
   "cell_type": "code",
   "execution_count": 6,
   "id": "fda8a955",
   "metadata": {},
   "outputs": [
    {
     "name": "stdout",
     "output_type": "stream",
     "text": [
      "enter the first number: 7\n",
      "enter the second number: 8\n",
      "enter the third number: 8\n",
      "All equal\n"
     ]
    }
   ],
   "source": [
    "# find the largest number\n",
    "a = int(input(\"enter the first number: \"))\n",
    "b = int(input(\"enter the second number: \"))\n",
    "c = int(input(\"enter the third number: \"))\n",
    "if a>b and a>c:\n",
    "    print (f\"{a} is the largest number.\")\n",
    "elif b>a and b>c:\n",
    "    print (f\"{b} is the largest number.\")\n",
    "elif c>a and c>b:\n",
    "    print (f\"{c} is the largest number.\")\n",
    "else:\n",
    "    print (\"All equal\")"
   ]
  },
  {
   "cell_type": "code",
   "execution_count": 7,
   "id": "ae3a3ebd",
   "metadata": {},
   "outputs": [
    {
     "name": "stdout",
     "output_type": "stream",
     "text": [
      "enter a number: 5\n",
      "the factorial of 5 is 120.\n"
     ]
    }
   ],
   "source": [
    "# find the factorial of a number\n",
    "num = int(input(\"enter a number: \"))\n",
    "factorial = 1\n",
    "if num < 0:\n",
    "   print(\"the factorial of the entered number does not exist.\")\n",
    "else:\n",
    "   for i in range(1,num + 1):\n",
    "       factorial = factorial*i\n",
    "   print(f\"the factorial of {num} is {factorial}.\")\n",
    "   \n",
    "   \n",
    "   "
   ]
  },
  {
   "cell_type": "code",
   "execution_count": 8,
   "id": "b400c846",
   "metadata": {},
   "outputs": [
    {
     "name": "stdout",
     "output_type": "stream",
     "text": [
      "enter the cost price: 56\n",
      "enter the selling price: 78\n",
      "profit by 39.285714285714285%\n"
     ]
    }
   ],
   "source": [
    "# find the loss or profit\n",
    "cp = int(input(\"enter the cost price: \"))\n",
    "sp = int(input(\"enter the selling price: \"))\n",
    "if sp>cp:\n",
    "    p = ((sp - cp)/cp)*100\n",
    "    print (f\"profit by {p}%\")\n",
    "elif cp>sp:\n",
    "    l = ((cp - sp)/cp)*100\n",
    "    print (f\"loss by {l}%\")\n",
    "else:\n",
    "    print (\"neither profit nor loss\")\n"
   ]
  },
  {
   "cell_type": "code",
   "execution_count": 10,
   "id": "9ebfe4fa",
   "metadata": {},
   "outputs": [
    {
     "name": "stdout",
     "output_type": "stream",
     "text": [
      "enter the principle amount: 7800\n",
      "enter the rate of interest: 6\n",
      "enter the time in months: 22\n",
      "enter the number of months the interest to be compunded in: 6\n",
      "the commpound interest is 892.8948543177576\n"
     ]
    }
   ],
   "source": [
    "# find the compound interest \n",
    "p = int(input(\"enter the principle amount: \"))\n",
    "r = int(input(\"enter the rate of interest: \"))\n",
    "t = int(input(\"enter the time in months: \"))\n",
    "z = int(input(\"enter the number of months the interest to be compunded in: \"))\n",
    "n = t/z\n",
    "amount = p*(1+(z/12*r)/100)**n\n",
    "compound = amount - p\n",
    "print (f\"the commpound interest is {compound}\")"
   ]
  },
  {
   "cell_type": "code",
   "execution_count": 14,
   "id": "27688c19",
   "metadata": {},
   "outputs": [
    {
     "name": "stdout",
     "output_type": "stream",
     "text": [
      "1 is neither prime, nor composite\n",
      "2 is prime\n",
      "3 is prime\n",
      "5 is prime\n",
      "7 is prime\n",
      "11 is prime\n",
      "13 is prime\n",
      "17 is prime\n",
      "19 is prime\n",
      "23 is prime\n",
      "29 is prime\n",
      "31 is prime\n",
      "37 is prime\n",
      "41 is prime\n",
      "43 is prime\n",
      "47 is prime\n",
      "53 is prime\n",
      "59 is prime\n",
      "61 is prime\n",
      "67 is prime\n",
      "71 is prime\n",
      "73 is prime\n",
      "79 is prime\n",
      "83 is prime\n",
      "89 is prime\n",
      "97 is prime\n"
     ]
    }
   ],
   "source": [
    "# print prime numbers from 1-100\n",
    "for count in (range(1,101)):\n",
    "    \n",
    "    isPrime = True\n",
    "    \n",
    "    if count ==1:\n",
    "        print (\"1 is neither prime, nor composite\")\n",
    "    else:\n",
    "        for i in (range(2,count)):\n",
    "            if count % i == 0:\n",
    "                isPrime = False\n",
    "                break\n",
    "        if(isPrime==True):\n",
    "            print(f\"{count} is prime\")\n",
    "        else:\n",
    "            pass\n",
    "#             print(f\"{count} is composite\")"
   ]
  },
  {
   "cell_type": "code",
   "execution_count": 17,
   "id": "fdc9a360",
   "metadata": {},
   "outputs": [
    {
     "name": "stdout",
     "output_type": "stream",
     "text": [
      "enter the value of N: 6\n",
      "enter the number: 7\n",
      "enter the number: 2\n",
      "enter the number: 1\n",
      "enter the number: 10\n",
      "enter the number: 15\n",
      "enter the number: 18\n",
      "the sum of the number is 53\n",
      "the average of the number is 8.833333333333334\n"
     ]
    }
   ],
   "source": [
    "# to find sum and average of N numbers\n",
    "n = int(input(\"enter the value of N: \"))\n",
    "sum = 0\n",
    "for i in range (n):\n",
    "    a = int(input(\"enter the number: \"))\n",
    "    sum += a\n",
    "avg = sum/n\n",
    "print (f\"the sum of the number is {sum}\")\n",
    "print (f\"the average of the number is {avg}\")"
   ]
  },
  {
   "cell_type": "code",
   "execution_count": 1,
   "id": "e8c15e8f",
   "metadata": {},
   "outputs": [],
   "source": [
    "def calculator (a,b,operation):\n",
    "    def add(): \n",
    "        return (a+b)\n",
    "    def sub():\n",
    "        return (a-b)\n",
    "    def mul():\n",
    "        return (a*b)\n",
    "    def div():\n",
    "        return (a/b)\n",
    "    def doublediv():\n",
    "        return (a//b)\n",
    "    def mod():\n",
    "        return (a%b)\n",
    "    def power():\n",
    "        return (a**b)\n",
    "\n",
    "    if (operation == \"+\"):\n",
    "        return add()\n",
    "    elif (operation == \"-\"):\n",
    "        return sub()\n",
    "    elif (operation == \"*\"):\n",
    "        return mul()\n",
    "    elif (operation == \"/\"):\n",
    "        return div()\n",
    "    elif (operation == \"//\"):\n",
    "        return doublediv()\n",
    "    elif (operation == \"%\"):\n",
    "        return mod()\n",
    "    elif (operation == \"**\"):\n",
    "        return power()\n",
    "    else:\n",
    "        print (\"N.A\") "
   ]
  },
  {
   "cell_type": "code",
   "execution_count": 2,
   "id": "5abc84bb",
   "metadata": {},
   "outputs": [
    {
     "data": {
      "text/plain": [
       "159242784"
      ]
     },
     "execution_count": 2,
     "metadata": {},
     "output_type": "execute_result"
    }
   ],
   "source": [
    "calculator (6789,23456,\"*\")"
   ]
  },
  {
   "cell_type": "code",
   "execution_count": null,
   "id": "ef091c08",
   "metadata": {},
   "outputs": [],
   "source": []
  }
 ],
 "metadata": {
  "kernelspec": {
   "display_name": "Python 3 (ipykernel)",
   "language": "python",
   "name": "python3"
  },
  "language_info": {
   "codemirror_mode": {
    "name": "ipython",
    "version": 3
   },
   "file_extension": ".py",
   "mimetype": "text/x-python",
   "name": "python",
   "nbconvert_exporter": "python",
   "pygments_lexer": "ipython3",
   "version": "3.10.9"
  }
 },
 "nbformat": 4,
 "nbformat_minor": 5
}
