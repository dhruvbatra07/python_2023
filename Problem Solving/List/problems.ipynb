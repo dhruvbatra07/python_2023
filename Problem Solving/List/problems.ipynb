{
 "cells": [
  {
   "cell_type": "code",
   "execution_count": null,
   "id": "fa7d0051",
   "metadata": {},
   "outputs": [],
   "source": [
    "#1\n",
    "total = 0\n",
    "\n",
    "list = [19, 53, 175, 148, 156]\n",
    "for l in range(0, len(list)):\n",
    "    total = total + list[l]\n",
    "print(f\"Sum of all elements in given list: {total}\")"
   ]
  },
  {
   "cell_type": "code",
   "execution_count": null,
   "id": "85dbc77e",
   "metadata": {},
   "outputs": [],
   "source": [
    "#2\n",
    "l = [43,54,90,87,69]\n",
    "max = l[0]\n",
    "for i in range (len(l)):\n",
    "    if (l[i] > max):\n",
    "        max = l[i]\n",
    "    else:\n",
    "        pass\n",
    "print(f\"the largest number is: {max}\")    "
   ]
  },
  {
   "cell_type": "code",
   "execution_count": null,
   "id": "3e19158f",
   "metadata": {},
   "outputs": [],
   "source": [
    "#4\n",
    "l = []\n",
    "\n",
    "if len(l) == 0:\n",
    "   print(\"list is empty\")\n",
    "else:\n",
    "   print(\"list is not empty\")"
   ]
  },
  {
   "cell_type": "code",
   "execution_count": 1,
   "id": "8db10c7c",
   "metadata": {},
   "outputs": [
    {
     "name": "stdout",
     "output_type": "stream",
     "text": [
      "[43, 54, 90, 87, 69, 54, 69, 69, 43, 90]\n",
      "select any number from the given list: 87\n",
      "1\n"
     ]
    }
   ],
   "source": [
    "#5\n",
    "count = 0\n",
    "l = [43,54,90,87,69,54,69,69,43,90]\n",
    "print(l)\n",
    "n = int(input(\"select any number from the given list: \"))\n",
    "for i in range(len(l)):\n",
    "    if (n == l[i]):\n",
    "        count += 1\n",
    "print(count)"
   ]
  },
  {
   "cell_type": "code",
   "execution_count": 2,
   "id": "6f83dbc2",
   "metadata": {},
   "outputs": [
    {
     "name": "stdout",
     "output_type": "stream",
     "text": [
      "[2, 3, 4, 5, 1]\n"
     ]
    }
   ],
   "source": [
    "#3\n",
    "l = [2,3,4,5,2,3,2,1,4]\n",
    "l_new = []\n",
    "for i in range(len(l)):\n",
    "    if(l[i] not in l_new):\n",
    "        l_new.append(l[i])\n",
    "print(l_new)"
   ]
  },
  {
   "cell_type": "code",
   "execution_count": 3,
   "id": "2d6fecaa",
   "metadata": {},
   "outputs": [
    {
     "name": "stdout",
     "output_type": "stream",
     "text": [
      "[1, 2, 3, 4, 5, 6, 7, 8, 9]\n"
     ]
    }
   ],
   "source": [
    "#6\n",
    "l = [1,2,3,4,5]\n",
    "l2 = [6,7,8,9]\n",
    "for i in range(len(l2)):\n",
    "    l.append(l2[i])\n",
    "print(l)"
   ]
  },
  {
   "cell_type": "code",
   "execution_count": 5,
   "id": "95bb2b46",
   "metadata": {},
   "outputs": [
    {
     "name": "stdout",
     "output_type": "stream",
     "text": [
      "[89, 76, 64, 54, 35]\n"
     ]
    }
   ],
   "source": [
    "#7\n",
    "l = [54,64,35,76,89]\n",
    "l_new = []\n",
    "\n",
    "while len(l)!=0:\n",
    "    max = l[0]\n",
    "    for i in range(len(l)):\n",
    "        if(l[i]>max):\n",
    "            max = l[i]\n",
    "    l_new.append(max)\n",
    "    l.remove(max)\n",
    "print(l_new)"
   ]
  },
  {
   "cell_type": "code",
   "execution_count": 10,
   "id": "18caf2da",
   "metadata": {},
   "outputs": [
    {
     "name": "stdout",
     "output_type": "stream",
     "text": [
      "[89, 76, 35, 64, 54]\n"
     ]
    }
   ],
   "source": [
    "#8\n",
    "l = [54,64,35,76,89]\n",
    "l_new = []\n",
    "\n",
    "for i in range(-1,-len(l)-1,-1):\n",
    "    l_new.append(l[i])\n",
    "print(l_new)"
   ]
  },
  {
   "cell_type": "code",
   "execution_count": 13,
   "id": "83fdad80",
   "metadata": {},
   "outputs": [
    {
     "data": {
      "text/plain": [
       "[89, 76, 35, 64, 54]"
      ]
     },
     "execution_count": 13,
     "metadata": {},
     "output_type": "execute_result"
    }
   ],
   "source": [
    "#8\n",
    "l = [54,64,35,76,89]\n",
    "l[::-1]"
   ]
  },
  {
   "cell_type": "code",
   "execution_count": 12,
   "id": "fbe01071",
   "metadata": {},
   "outputs": [
    {
     "name": "stdout",
     "output_type": "stream",
     "text": [
      "palindrome\n"
     ]
    }
   ],
   "source": [
    "#10\n",
    "l = [1,2,2,1]\n",
    "if(l[::-1] == l):\n",
    "    print(\"palindrome\")\n",
    "else:\n",
    "    print(\"not palindrome\")"
   ]
  },
  {
   "cell_type": "code",
   "execution_count": 14,
   "id": "4be65395",
   "metadata": {},
   "outputs": [
    {
     "name": "stdout",
     "output_type": "stream",
     "text": [
      "76\n"
     ]
    }
   ],
   "source": [
    "#9\n",
    "l = [54,64,35,76,89]\n",
    "l_new = []\n",
    "\n",
    "while len(l)!=0:\n",
    "    max = l[0]\n",
    "    for i in range(len(l)):\n",
    "        if(l[i]>max):\n",
    "            max = l[i]\n",
    "    l_new.append(max)\n",
    "    l.remove(max)\n",
    "    \n",
    "print(l_new[1])"
   ]
  },
  {
   "cell_type": "code",
   "execution_count": null,
   "id": "e281fa83",
   "metadata": {},
   "outputs": [],
   "source": []
  }
 ],
 "metadata": {
  "kernelspec": {
   "display_name": "Python 3 (ipykernel)",
   "language": "python",
   "name": "python3"
  },
  "language_info": {
   "codemirror_mode": {
    "name": "ipython",
    "version": 3
   },
   "file_extension": ".py",
   "mimetype": "text/x-python",
   "name": "python",
   "nbconvert_exporter": "python",
   "pygments_lexer": "ipython3",
   "version": "3.10.9"
  }
 },
 "nbformat": 4,
 "nbformat_minor": 5
}
